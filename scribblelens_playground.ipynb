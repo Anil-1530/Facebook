{
 "cells": [
  {
   "cell_type": "code",
   "execution_count": null,
   "metadata": {
    "scrolled": true
   },
   "outputs": [],
   "source": [
    "with open('/pio/scratch/2/mstyp/wav2vec/data/LibriSpeech/train.tsv') as f:\n",
    "    data_raw = f.read()\n",
    "    print(data_raw)"
   ]
  },
  {
   "cell_type": "code",
   "execution_count": 8,
   "metadata": {},
   "outputs": [
    {
     "name": "stdout",
     "output_type": "stream",
     "text": [
      "Collecting sounddevice\n",
      "  Downloading sounddevice-0.4.1-py3-none-any.whl (31 kB)\n",
      "Requirement already satisfied: CFFI>=1.0 in /pio/scratch/2/mstyp/conda/miniconda3/envs/fairseq/lib/python3.7/site-packages (from sounddevice) (1.14.2)\n",
      "Requirement already satisfied: pycparser in /pio/scratch/2/mstyp/conda/miniconda3/envs/fairseq/lib/python3.7/site-packages (from CFFI>=1.0->sounddevice) (2.20)\n",
      "Installing collected packages: sounddevice\n",
      "Successfully installed sounddevice-0.4.1\n"
     ]
    }
   ],
   "source": [
    "! pip install sounddevice"
   ]
  },
  {
   "cell_type": "code",
   "execution_count": 9,
   "metadata": {},
   "outputs": [],
   "source": [
    "import numpy as np                                                             \n",
    "import soundfile as sf\n",
    "import sounddevice as sd"
   ]
  },
  {
   "cell_type": "code",
   "execution_count": 10,
   "metadata": {},
   "outputs": [],
   "source": [
    "data, samplerate = sf.read('/pio/scratch/2/mstyp/wav2vec/data/LibriSpeech/dev-clean/2277/149896/2277-149896-0000.flac')"
   ]
  },
  {
   "cell_type": "code",
   "execution_count": null,
   "metadata": {},
   "outputs": [],
   "source": []
  }
 ],
 "metadata": {
  "kernelspec": {
   "display_name": "Python 3",
   "language": "python",
   "name": "python3"
  },
  "language_info": {
   "codemirror_mode": {
    "name": "ipython",
    "version": 3
   },
   "file_extension": ".py",
   "mimetype": "text/x-python",
   "name": "python",
   "nbconvert_exporter": "python",
   "pygments_lexer": "ipython3",
   "version": "3.7.9"
  }
 },
 "nbformat": 4,
 "nbformat_minor": 4
}
